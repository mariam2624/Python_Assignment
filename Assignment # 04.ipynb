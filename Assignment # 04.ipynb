{
 "cells": [
  {
   "cell_type": "markdown",
   "metadata": {},
   "source": []
  },
  {
   "cell_type": "markdown",
   "metadata": {},
   "source": [
    "A movie theater charges different ticket prices depending on a person’s age. If a person is under the age\n",
    "of 3, the ticket is free; if they are between 3 and 12, the ticket is $10; and if they are over age 12, the\n",
    "ticket is $15. Write a loop in which you ask users their age, and then tell them the cost of their movie\n",
    "ticket."
   ]
  },
  {
   "cell_type": "code",
   "execution_count": 11,
   "metadata": {},
   "outputs": [
    {
     "name": "stdout",
     "output_type": "stream",
     "text": [
      "Enter your age please: 15\n",
      "The ticket is $15\n"
     ]
    }
   ],
   "source": [
    "age = int(input(\"Enter your age please: \"))\n",
    "if age < 3:\n",
    "    print(\"The ticket is free\")\n",
    "elif age >= 3 and age <=12:\n",
    "    print(\"The ticket is $10\")\n",
    "elif age > 12:\n",
    "    print(\"The ticket is $15\")\n",
    "    "
   ]
  },
  {
   "cell_type": "markdown",
   "metadata": {},
   "source": [
    "Write a function called favorite_book() that accepts one parameter, title. The function should print a\n",
    "message, such as One of my favorite books is Alice in Wonderland. Call the function, making sure to\n",
    "include a book title as an argument in the function call."
   ]
  },
  {
   "cell_type": "code",
   "execution_count": 4,
   "metadata": {},
   "outputs": [],
   "source": [
    "def favourite_book(title):\n",
    "    t = str(title)\n",
    "    print(f\"One of my favourite book is {t}\")"
   ]
  },
  {
   "cell_type": "code",
   "execution_count": 6,
   "metadata": {},
   "outputs": [
    {
     "name": "stdout",
     "output_type": "stream",
     "text": [
      "One of my favourite book is Alice in Wonderland\n"
     ]
    }
   ],
   "source": [
    "favourite_book(\"Alice in Wonderland\")"
   ]
  },
  {
   "cell_type": "markdown",
   "metadata": {},
   "source": [
    "### Guess the number game\n",
    "Write a program which randomly generate a number between 1 to 30 and ask the user in input field to\n",
    "guess the correct number. Give three chances to user guess the number and also give hint to user if\n",
    "hidden number is greater or smaller than the number he given to input field."
   ]
  },
  {
   "cell_type": "code",
   "execution_count": 1,
   "metadata": {},
   "outputs": [
    {
     "name": "stdout",
     "output_type": "stream",
     "text": [
      "Guess any number between 1 to 30\n",
      "Your 1st chance: 30\n",
      "Your 2nd chance: 15\n",
      "Last chance: 22\n",
      "You lost! the correct answer is 2\n"
     ]
    }
   ],
   "source": [
    "import random\n",
    "print(\"Guess any number between 1 to 30\")\n",
    "a = random.randrange(1,30)\n",
    "chance_one = int(input(\"Your 1st chance: \"))\n",
    "if chance_one == a:\n",
    "    print(\"correct answer\")\n",
    "else:\n",
    "    chance_two = int(input(\"Your 2nd chance: \"))\n",
    "    if chance_two == a:\n",
    "        print(\"correct answer\")\n",
    "    else:\n",
    "        chance_three = int(input(\"Last chance: \"))\n",
    "        if chance_three == a:\n",
    "            print(\"correct answer\")\n",
    "        else:\n",
    "            print(f\"You lost! the correct answer is {a}\")\n",
    "            "
   ]
  },
  {
   "cell_type": "code",
   "execution_count": null,
   "metadata": {},
   "outputs": [],
   "source": []
  }
 ],
 "metadata": {
  "kernelspec": {
   "display_name": "Python 3",
   "language": "python",
   "name": "python3"
  },
  "language_info": {
   "codemirror_mode": {
    "name": "ipython",
    "version": 3
   },
   "file_extension": ".py",
   "mimetype": "text/x-python",
   "name": "python",
   "nbconvert_exporter": "python",
   "pygments_lexer": "ipython3",
   "version": "3.7.3"
  }
 },
 "nbformat": 4,
 "nbformat_minor": 2
}
