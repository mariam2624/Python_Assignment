{
 "cells": [
  {
   "cell_type": "markdown",
   "metadata": {},
   "source": [
    "### Question 1:\n",
    "## Define Object Oriented Programming Language?"
   ]
  },
  {
   "cell_type": "markdown",
   "metadata": {},
   "source": [
    "Object-oriented programming (OOP) is a programming language model in which programs are organized around data, \n",
    "or objects, rather than functions and logic. An object can be defined as a data field that has unique attributes \n",
    "and behavior. Examples of an object can range from physical entities, such as a human being that is described by \n",
    "properties like name and address, down to small computer programs, such as widgets. This opposes the historical \n",
    "approach to programming where emphasis was placed on how the logic was written rather than how to define the data \n",
    "within the logic."
   ]
  },
  {
   "cell_type": "markdown",
   "metadata": {},
   "source": [
    "### Question 2:\n",
    "## List down the Benefits of OOP?"
   ]
  },
  {
   "cell_type": "markdown",
   "metadata": {},
   "source": [
    "Advantages of OOP\n",
    "Moving to the advantages of OOP, we would like to say that there are many as this is one of the core development approaches which is widely accepted. Let’s see what are the advantages of OOP offers to its users.\n",
    "\n",
    "1. Re-usability\n",
    "It means reusing some facilities rather than building it again and again. This is done with the use of a class. We can use it ‘n’ number of times as per our need.\n",
    "\n",
    "2. Data Redundancy\n",
    "This is a condition created at the place of data storage (you can say Databases)where the same piece of data is held in two separate places. So the data redundancy is one of the greatest advantages of OOP. If a user wants a similar functionality in multiple classes he/she can go ahead by writing common class definitions for the similar functionalities and inherit them.\n",
    "\n",
    "3. Code Maintenance\n",
    "This feature is more of a necessity for any programming languages, it helps users from doing re-work in many ways. It is always easy and time-saving to maintain and modify the existing codes with incorporating new changes into it.\n",
    "\n",
    "4. Security\n",
    "With the use of data hiding and abstraction mechanism, we are filtering out limited data to exposure which means we are maintaining security and providing necessary data to view.\n",
    "\n",
    "5. Design Benefits\n",
    "If you are practicing on OOPs the design benefit a user will get is in terms of designing and fixing things easily and eliminating the risks (if any). Here the Object Oriented Programs forces the designers to have a longer and extensive design phase, which results in better designs and fewer flaws. After a time when the program has reached some critical limits, it is easier to program all the non-OOP’s one separately.\n",
    "\n",
    "6. Better productivity\n",
    "with the above-mentioned facts of using the application definitely enhances its users overall productivity. This leads to more work done, finish a better program, having more inbuilt features and easier to read, write and maintain. An OOP programmer cans stitch new software objects to make completely new programs. A good number of libraries with useful functions in abundance make it possible.\n",
    "\n",
    "7. Easy troubleshooting\n",
    "lets witness some common issues or problems any developers face in their work.\n",
    "\n",
    "Is this the problem in the widget file?\n",
    "Is the problem is in the WhaleFlumper?\n",
    "Will I have to trudge through that ‘sewage.c’ file?\n",
    "Commenting on all these issues related to code.\n",
    "So, many a time it happens that something has gone wrong which later becomes so brainstorming for the developers to look where the error is. Relax! Working with OOP language you will know where to look for. This is the advantage of using encapsulation in OOP; all the objects are self-constrained. With this modality behavior, the IT teams get a lot of work benefits as they are now capable to work on multiple projects simultaneously with an advantage that there is no possibility of code duplicity.\n",
    "\n",
    "8. Polymorphism Flexibility\n",
    "Let’s see a scenario to better explain this behavior.\n",
    "\n",
    "You behave in a different way if the place or surrounding gets change. A person will behave like a customer if he is in a market, the same person will behave like a student if he is in a school and as a son/daughter if put in a house. Here we can see that the same person showing different behavior every time the surroundings are changed. This means polymorphism is flexibility and helps developers in a number of ways.\n",
    "\n",
    "It’s simplicity\n",
    "Extensibility\n",
    "9. Problems solving\n",
    "Decomposing a complex problem into smaller chunks or discrete components is a good practice. OOP is specialized in this behavior, as it breaks down your software code into bite-sized – one object at a time. In doing this the broken components can be reused in solutions to different other problems (both less and more complex) or either they can be replaced by the future modules which relate to the same interface with implementations details.\n",
    "\n",
    "A general relatable real-time scenario – at a high level a car can be decomposed into wheels, engine, a chassis soon and each of those components can be further broken down into even smaller atomic components like screws and bolts. The engine’s design doesn’t need to know anything about the size of the tires in order to deliver a certain amount of power (as output) has little to do with each other.\n"
   ]
  },
  {
   "cell_type": "markdown",
   "metadata": {},
   "source": [
    "### Question 3:\n",
    "## Differentiate between function and method?"
   ]
  },
  {
   "cell_type": "markdown",
   "metadata": {},
   "source": [
    "A function is a piece of code that is called by name. It can be passed data to operate on (i.e. the parameters) and can optionally return data (the return value). All data that is passed to a function is explicitly passed.\n",
    "\n",
    "A method is a piece of code that is called by a name that is associated with an object. In most respects it is identical to a function except for two key differences:\n",
    "\n",
    "A method is implicitly passed the object on which it was called.\n",
    "\n",
    "A method is able to operate on data that is contained within the class (remembering that an object is an instance of a class - the class is the definition, the object is an instance of that data)."
   ]
  },
  {
   "cell_type": "markdown",
   "metadata": {},
   "source": [
    "### Question 4:\n",
    "## Define the following terms:\n",
    "1. Class\n",
    "a class describes the contents of the objects that belong to it: it describes an aggregate of data fields (called instance variables), and defines the operations (called methods). \n",
    "\n",
    "2. Object\n",
    "an object is an element (or instance) of a class; objects have the behaviors of their class.\n",
    "\n",
    "3. Attribute\n",
    "In Object-oriented programming(OOP), classes and objects have attributes. Attributes are data stored inside a class or instance and represent the state or quality of the class or instance. In short, attributes store information about the instance. Also, attributes should not be confused with class functions also known as methods. One can think of attributes as noun or adjective, while methods are the verb of the class.\n",
    "Class attributes\n",
    "\n",
    "4. Behavior\n",
    "A class's behavior determines how an instance of that class operates; for example, how it will \"react\" if asked to do something by another class or object or if its internal state changes. Behavior is the only way objects can do anything to themselves or have anything done to them.\n"
   ]
  },
  {
   "cell_type": "markdown",
   "metadata": {},
   "source": [
    "### Question 5:\n",
    "## Write a code in python in which create a class named it Car which have 5 attributes such like (model, color and name etc.) and 3 methods. And create 5 object instance from that class."
   ]
  },
  {
   "cell_type": "code",
   "execution_count": null,
   "metadata": {},
   "outputs": [],
   "source": [
    "class Car():\n",
    "    #attributes : (are variables in programming)\n",
    "    #self is just a first parameter we can place any variable as first parameter instead of self\n",
    "    def __init__(self,make,model,year):\n",
    "        self.make = make\n",
    "        self.model = model\n",
    "        self.year = year\n",
    "        self.battery = \"200amp\" #default attribute\n",
    "    #behaviours/actions : (are functions in programming)\n",
    "    def carDescription(self):\n",
    "        print(f\"The make of the car is {self.make}\")\n",
    "        print(f\"The model of the car is {self.model}\")\n",
    "        print(f\"The year of the car is {self.year}\")    \n",
    "    def desBattery(self):\n",
    "        print(f\"the battery of the car is {self.battery}\")\n",
    "    def move(self):\n",
    "        print(f\"{self.model} moves in right direction\") \n",
    "    def applyingBreak(self):\n",
    "        print(f\"{self.model} has applied the break\")\n",
    "    def setBatterySize(self,newSize):\n",
    "        self.battery = newSize\n",
    "    def getBatterySize(self):\n",
    "        print(f\"The size of the battery is {self.battery}\")\n",
    "    "
   ]
  }
 ],
 "metadata": {
  "kernelspec": {
   "display_name": "Python 3",
   "language": "python",
   "name": "python3"
  },
  "language_info": {
   "codemirror_mode": {
    "name": "ipython",
    "version": 3
   },
   "file_extension": ".py",
   "mimetype": "text/x-python",
   "name": "python",
   "nbconvert_exporter": "python",
   "pygments_lexer": "ipython3",
   "version": "3.7.3"
  }
 },
 "nbformat": 4,
 "nbformat_minor": 2
}
