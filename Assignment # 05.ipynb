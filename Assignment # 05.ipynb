{
 "cells": [
  {
   "cell_type": "markdown",
   "metadata": {},
   "source": [
    "Question:1) Write a Python function to calculate the factorial of a number (a non-negative integer). The function accepts the number as an argument."
   ]
  },
  {
   "cell_type": "code",
   "execution_count": 1,
   "metadata": {},
   "outputs": [],
   "source": [
    "def factorial(x):\n",
    "    fix = 1\n",
    "    for i in range(1,x+1):\n",
    "        fix = fix*i\n",
    "    return fix\n",
    "    "
   ]
  },
  {
   "cell_type": "markdown",
   "metadata": {},
   "source": [
    "Question:2) Write a Python function that accepts a string and calculate the number of upper case letters and lower case letters."
   ]
  },
  {
   "cell_type": "code",
   "execution_count": 3,
   "metadata": {},
   "outputs": [
    {
     "name": "stdout",
     "output_type": "stream",
     "text": [
      "Enter any string: MariaM\n",
      "The number of lowercase characters is:\n",
      "4\n",
      "The number of uppercase characters is:\n",
      "2\n"
     ]
    }
   ],
   "source": [
    "string = str(input(\"Enter any string: \"))\n",
    "count1=0\n",
    "count2=0\n",
    "for i in string:\n",
    "      if(i.islower()):\n",
    "            count1=count1+1\n",
    "      elif(i.isupper()):\n",
    "            count2=count2+1\n",
    "print(\"The number of lowercase characters is:\")\n",
    "print(count1)\n",
    "print(\"The number of uppercase characters is:\")\n",
    "print(count2)\n"
   ]
  },
  {
   "cell_type": "markdown",
   "metadata": {},
   "source": [
    "Question:3) Write a Python function to print the even numbers from a given list."
   ]
  },
  {
   "cell_type": "code",
   "execution_count": 2,
   "metadata": {},
   "outputs": [
    {
     "name": "stdout",
     "output_type": "stream",
     "text": [
      "[2, 4, 6, 8]\n"
     ]
    }
   ],
   "source": [
    "list=[1,2,3,4,5,6,7,8]\n",
    "even_list=[]\n",
    "for i in list:\n",
    "    if i%2 == 0:\n",
    "        even_list.append(i)\n",
    "print(even_list)\n",
    "        "
   ]
  },
  {
   "cell_type": "markdown",
   "metadata": {},
   "source": [
    "Question:4 ) Write a Python function that checks whether a passed string is palindrome or not."
   ]
  },
  {
   "cell_type": "code",
   "execution_count": 30,
   "metadata": {},
   "outputs": [],
   "source": [
    "# Python program to check \n",
    "# if a string is palindrome  \n",
    "# or not \n",
    "  \n",
    "def plaindrome_check(x):\n",
    "    x = str(x)\n",
    "    w = \"\"\n",
    "    for i in x: \n",
    "        w = i + w \n",
    "        if (x==w): \n",
    "            print(\"YES, its plaindrome\") \n",
    "        \n"
   ]
  },
  {
   "cell_type": "code",
   "execution_count": 31,
   "metadata": {},
   "outputs": [
    {
     "name": "stdout",
     "output_type": "stream",
     "text": [
      "YES, its plaindrome\n"
     ]
    }
   ],
   "source": [
    "plaindrome_check(\"maham\")"
   ]
  },
  {
   "cell_type": "markdown",
   "metadata": {},
   "source": [
    "Question:5 ) Write a Python function that takes a number as a parameter and check the number is prime or not."
   ]
  },
  {
   "cell_type": "code",
   "execution_count": 32,
   "metadata": {},
   "outputs": [],
   "source": [
    "# Python program to check if  \n",
    "# given number is prime or not \n",
    "  \n",
    " \n",
    "# If given number is greater than 1 \n",
    "def check_prime_no(num):\n",
    "    if num > 1: \n",
    "\n",
    "       # Iterate from 2 to n / 2  \n",
    "       for i in range(2, num//2): \n",
    "\n",
    "           # If num is divisible by any number between  \n",
    "           # 2 and n / 2, it is not prime  \n",
    "           if (num % i) == 0: \n",
    "               print(num, \"is not a prime number\") \n",
    "               break\n",
    "       else: \n",
    "           print(num, \"is a prime number\") \n",
    "\n",
    "    else: \n",
    "       print(num, \"is not a prime number\") \n"
   ]
  },
  {
   "cell_type": "code",
   "execution_count": 33,
   "metadata": {},
   "outputs": [
    {
     "name": "stdout",
     "output_type": "stream",
     "text": [
      "4 is a prime number\n"
     ]
    }
   ],
   "source": [
    "check_prime_no(4)"
   ]
  },
  {
   "cell_type": "markdown",
   "metadata": {},
   "source": [
    "Question: 6 )\n",
    "Suppose a customer is shopping in a market and you need to print all the items which user bought from market.\n",
    "Write a function which accepts the multiple arguments of user shopping list and print all the items which user bought from market.\n",
    "(Hint: Arbitrary Argument concept can make this task ease)"
   ]
  },
  {
   "cell_type": "code",
   "execution_count": 17,
   "metadata": {},
   "outputs": [],
   "source": [
    "list = []\n",
    "flag = True\n",
    "def myFun(*argv):  \n",
    "    for arg in argv:\n",
    "        str(arg)\n",
    "        if arg == \"end\":\n",
    "            flag = False\n",
    "        else:     \n",
    "            list.append(arg)\n",
    "    return list\n",
    "                \n",
    "           "
   ]
  },
  {
   "cell_type": "code",
   "execution_count": 18,
   "metadata": {},
   "outputs": [
    {
     "data": {
      "text/plain": [
       "['pizza', 'burger', 'tea']"
      ]
     },
     "execution_count": 18,
     "metadata": {},
     "output_type": "execute_result"
    }
   ],
   "source": [
    "myFun(\"pizza\",\"burger\",\"tea\",\"end\")\n"
   ]
  }
 ],
 "metadata": {
  "kernelspec": {
   "display_name": "Python 3",
   "language": "python",
   "name": "python3"
  },
  "language_info": {
   "codemirror_mode": {
    "name": "ipython",
    "version": 3
   },
   "file_extension": ".py",
   "mimetype": "text/x-python",
   "name": "python",
   "nbconvert_exporter": "python",
   "pygments_lexer": "ipython3",
   "version": "3.7.3"
  }
 },
 "nbformat": 4,
 "nbformat_minor": 2
}
